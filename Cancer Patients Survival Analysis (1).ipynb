{
 "cells": [
  {
   "cell_type": "markdown",
   "metadata": {
    "id": "O-apxw5fYTG1"
   },
   "source": [
    "<div>\n",
    "\n",
    "<center><h1 style=\"padding: 25px 0px; color:#d297de; font-weight: bold;\">\n",
    "Cancer Patients Survival Analysis</h1></center>    \n",
    "\n",
    "</div>\n"
   ]
  },
  {
   "cell_type": "markdown",
   "metadata": {
    "id": "-E1Y3DLTu1d7"
   },
   "source": [
    "# <a name=\"toc\"></a>\n",
    "\n",
    "<div>\n",
    "\n",
    "<center><h3 style=\"padding: 5px 0px; color:#d297de; font-weight: bold; \">\n",
    "Table of Contents</h3></center>\n",
    "</div>"
   ]
  },
  {
   "cell_type": "markdown",
   "metadata": {
    "id": "Zb8MF3RTO5Hi"
   },
   "source": [
    "- [1. Problem statement](#Problem_Statement)\n",
    "    - [1.1. Introduction](#Introduction)\n",
    "    - [1.2. Dataset Features](#Dataset_Features)\n",
    "- [2. Import Libraries and Data and Preprocessing](#Import_Libraries_and_Data)\n",
    "- [3. Estimating Hazard Rates Using Nelson-Aalen](#Estimating_hazard_rates_using_Nelson_Aalen)\n",
    "- [4. Cox Proportional Hazard Model](#Cox_proportional_hazard_model)"
   ]
  },
  {
   "cell_type": "markdown",
   "metadata": {
    "id": "_sftityZYj5K"
   },
   "source": [
    "# <a name='Problem_Statement'></a>\n",
    "\n",
    "<div>\n",
    "\n",
    "<center><h3 style=\"padding: 5px 0px; color:#d297de; font-weight: bold;\">\n",
    "1. Problem Statement</h3></center>\n",
    "</div>"
   ]
  },
  {
   "cell_type": "markdown",
   "metadata": {
    "id": "Z5sz179VQiG1"
   },
   "source": [
    "## <a name='Introduction'></a>\n",
    "\n",
    "<div>\n",
    "\n",
    "<h3 style=\"padding: 5px 0px; color:#d297de; font-weight: bold;\">\n",
    "1.1. Introduction</h3>\n",
    "</div>"
   ]
  },
  {
   "cell_type": "markdown",
   "metadata": {
    "id": "IsZD6KEJtH27"
   },
   "source": [
    "**Introduction to Survival Analysis**\n",
    "\n",
    "Survival analysis constitutes a set of statistical methodologies designed to determine the duration until a specific event of interest occurs. This analytical approach finds wide-ranging applications across various domains, where understanding the timing of critical events holds significance. \n",
    "\n",
    "**Applications:**\n",
    "\n",
    "Survival analysis serves diverse purposes across industries:\n",
    "\n",
    "- **Medical**: Assessing patient survival post-diagnosis of a severe ailment, duration of hospital readmission following major surgeries.\n",
    "  \n",
    "- **Industry**: Predicting the lifespan of Tesla car batteries.\n",
    "\n",
    "- **Transportation**: Analyzing pedestrian waiting times post-arrival at intersections.\n",
    "\n",
    "- **E-commerce**: Predicting the time between ad exposure and purchase.\n",
    "\n",
    "- **Human Resources**: Anticipating employee turnover.\n",
    "\n",
    "**Types of Events in Cancer Studies:**\n",
    "\n",
    "Survival analysis in cancer studies typically focuses on three types of events:\n",
    "\n",
    "1. **Relapse**: A decline in health status after a temporary improvement.\n",
    "   \n",
    "2. **Progression**: Gradual development towards a more advanced state, indicating health improvement.\n",
    "\n",
    "3. **Death**: Permanent cessation of life.\n",
    "\n",
    "**Censoring:**\n",
    "\n",
    "In survival analysis, there exists a possibility that the event of interest may not be observed due to various reasons. Such instances are termed as censored observations. Censoring occurs due to reasons such as patients not experiencing the event within the study period or discontinuation of follow-up.\n",
    "\n",
    "Types of censoring include:\n",
    "\n",
    "- **Right Censoring**: Event occurrence (e.g., death).\n",
    "  \n",
    "- **Left Censoring**: Unobservable events, including occurrences prior to the study's commencement.\n",
    "  \n",
    "- **Interval Censoring**: Limited data availability within certain intervals.\n",
    "\n",
    "**Survival and Hazard Functions:**\n",
    "\n",
    "Survival analysis typically revolves around two key probabilities:\n",
    "\n",
    "1. **Survival Probability**: Denoted by the survivor function \\( S(t) \\) (e.g., Kaplan-Meier Estimator), it represents the likelihood of an individual surviving from a specific origin time to a future time \\( t \\). Higher values indicate better survival prospects.\n",
    "\n",
    "2. **Hazard Probability**: Represented by \\( h(t) \\), it signifies the likelihood of an individual experiencing an event at a given time \\( t \\). Lower values imply a lower risk of the event occurring.\n"
   ]
  },
  {
   "cell_type": "markdown",
   "metadata": {
    "id": "DwZIb4VmZPVP"
   },
   "source": [
    "## <a name='Dataset_Features'></a>\n",
    "\n",
    "<div>\n",
    "\n",
    "<h3 style=\"padding: 5px 0px; color:#d297de; font-weight: bold;\">\n",
    "1.2. Dataset Features</h3>\n",
    "</div>"
   ]
  },
  {
   "cell_type": "markdown",
   "metadata": {
    "id": "UqQQPq9s290l"
   },
   "source": [
    "- `age`: Age in years\n",
    "- `inst`: Institution code\n",
    "- `meal.cal`: Calories consumed at meals\n",
    "- `pat.karno`: Karnofsky performance score as rated by patient\n",
    "- `ph.ecog`: ECOG performance score as rated by the physician. 0 = asymptomatic, 1 = symptomatic but completely ambulatory, 2 = in bed <50% of the day, 3 = in bed > 50% of the day but not bed bound, 4 = bed bound\n",
    "- `ph.karno`: Karnofsky performance score (bad = 0; good = 100) rated by physician\n",
    "- `sex`: Male = 1 Female = 2\n",
    "- `status`: censoring status 1 = censored, 2 = dead\n",
    "- `time`: Survival time in days\n",
    "- `wt.loss`: Weight loss in last six months\n"
   ]
  },
  {
   "cell_type": "markdown",
   "metadata": {
    "id": "h-ffatanmTqu"
   },
   "source": [
    "# <a name='Import_Libraries_and_Data'></a>\n",
    "\n",
    "<div>\n",
    "\n",
    "<center><h3 style=\"padding: 5px 0px; color:#d297de; font-weight: bold;\">\n",
    "2. Import Libraries and Data and Preprocessing</h3></center>\n",
    "</div>\n"
   ]
  },
  {
   "cell_type": "code",
   "execution_count": 5,
   "metadata": {
    "colab": {
     "base_uri": "https://localhost:8080/"
    },
    "id": "F0Xq76D1vzUW",
    "outputId": "0b5ec228-032c-449b-8f76-5404b0fd598d",
    "scrolled": true
   },
   "outputs": [
    {
     "name": "stdout",
     "output_type": "stream",
     "text": [
      "Defaulting to user installation because normal site-packages is not writeable\n",
      "Requirement already satisfied: lifelines in c:\\users\\sankalp\\appdata\\roaming\\python\\python39\\site-packages (0.28.0)\n",
      "Requirement already satisfied: autograd>=1.5 in c:\\users\\sankalp\\appdata\\roaming\\python\\python39\\site-packages (from lifelines) (1.6.2)\n",
      "Requirement already satisfied: scipy>=1.2.0 in c:\\programdata\\anaconda3\\lib\\site-packages (from lifelines) (1.7.3)\n",
      "Requirement already satisfied: matplotlib>=3.0 in c:\\programdata\\anaconda3\\lib\\site-packages (from lifelines) (3.5.1)\n",
      "Requirement already satisfied: pandas>=1.2.0 in c:\\programdata\\anaconda3\\lib\\site-packages (from lifelines) (1.4.2)\n",
      "Requirement already satisfied: formulaic>=0.2.2 in c:\\users\\sankalp\\appdata\\roaming\\python\\python39\\site-packages (from lifelines) (1.0.1)\n",
      "Requirement already satisfied: autograd-gamma>=0.3 in c:\\users\\sankalp\\appdata\\roaming\\python\\python39\\site-packages (from lifelines) (0.5.0)\n",
      "Requirement already satisfied: numpy<2.0,>=1.14.0 in c:\\programdata\\anaconda3\\lib\\site-packages (from lifelines) (1.21.5)\n",
      "Requirement already satisfied: future>=0.15.2 in c:\\programdata\\anaconda3\\lib\\site-packages (from autograd>=1.5->lifelines) (0.18.2)\n",
      "Requirement already satisfied: interface-meta>=1.2.0 in c:\\users\\sankalp\\appdata\\roaming\\python\\python39\\site-packages (from formulaic>=0.2.2->lifelines) (1.3.0)\n",
      "Requirement already satisfied: typing-extensions>=4.2.0 in c:\\users\\sankalp\\appdata\\roaming\\python\\python39\\site-packages (from formulaic>=0.2.2->lifelines) (4.11.0)\n",
      "Requirement already satisfied: wrapt>=1.0 in c:\\programdata\\anaconda3\\lib\\site-packages (from formulaic>=0.2.2->lifelines) (1.12.1)\n",
      "Requirement already satisfied: pillow>=6.2.0 in c:\\programdata\\anaconda3\\lib\\site-packages (from matplotlib>=3.0->lifelines) (9.0.1)\n",
      "Requirement already satisfied: pyparsing>=2.2.1 in c:\\programdata\\anaconda3\\lib\\site-packages (from matplotlib>=3.0->lifelines) (3.0.4)\n",
      "Requirement already satisfied: python-dateutil>=2.7 in c:\\programdata\\anaconda3\\lib\\site-packages (from matplotlib>=3.0->lifelines) (2.8.2)\n",
      "Requirement already satisfied: cycler>=0.10 in c:\\programdata\\anaconda3\\lib\\site-packages (from matplotlib>=3.0->lifelines) (0.11.0)\n",
      "Requirement already satisfied: packaging>=20.0 in c:\\programdata\\anaconda3\\lib\\site-packages (from matplotlib>=3.0->lifelines) (21.3)\n",
      "Requirement already satisfied: fonttools>=4.22.0 in c:\\programdata\\anaconda3\\lib\\site-packages (from matplotlib>=3.0->lifelines) (4.25.0)\n",
      "Requirement already satisfied: kiwisolver>=1.0.1 in c:\\programdata\\anaconda3\\lib\\site-packages (from matplotlib>=3.0->lifelines) (1.3.2)\n",
      "Requirement already satisfied: pytz>=2020.1 in c:\\programdata\\anaconda3\\lib\\site-packages (from pandas>=1.2.0->lifelines) (2021.3)\n",
      "Requirement already satisfied: six>=1.5 in c:\\programdata\\anaconda3\\lib\\site-packages (from python-dateutil>=2.7->matplotlib>=3.0->lifelines) (1.16.0)\n"
     ]
    }
   ],
   "source": [
    "!pip install lifelines"
   ]
  },
  {
   "cell_type": "code",
   "execution_count": 36,
   "metadata": {
    "id": "xBuBbqT7st_J"
   },
   "outputs": [],
   "source": [
    "import pandas as pd\n",
    "import numpy as np\n",
    "import matplotlib.pyplot as plt\n",
    "from lifelines import KaplanMeierFitter, NelsonAalenFitter, CoxPHFitter\n",
    "km = KaplanMeierFitter()"
   ]
  },
  {
   "cell_type": "code",
   "execution_count": 7,
   "metadata": {
    "id": "9OHWg_98v5Wm"
   },
   "outputs": [],
   "source": [
    "data = pd.read_csv('lung.csv')"
   ]
  },
  {
   "cell_type": "code",
   "execution_count": 8,
   "metadata": {
    "colab": {
     "base_uri": "https://localhost:8080/",
     "height": 206
    },
    "id": "JZtA0fBPwClM",
    "outputId": "39474167-35f8-4c11-a7f8-ac5293b725d7"
   },
   "outputs": [
    {
     "data": {
      "text/html": [
       "<div>\n",
       "<style scoped>\n",
       "    .dataframe tbody tr th:only-of-type {\n",
       "        vertical-align: middle;\n",
       "    }\n",
       "\n",
       "    .dataframe tbody tr th {\n",
       "        vertical-align: top;\n",
       "    }\n",
       "\n",
       "    .dataframe thead th {\n",
       "        text-align: right;\n",
       "    }\n",
       "</style>\n",
       "<table border=\"1\" class=\"dataframe\">\n",
       "  <thead>\n",
       "    <tr style=\"text-align: right;\">\n",
       "      <th></th>\n",
       "      <th>Unnamed: 0</th>\n",
       "      <th>inst</th>\n",
       "      <th>time</th>\n",
       "      <th>status</th>\n",
       "      <th>age</th>\n",
       "      <th>sex</th>\n",
       "      <th>ph.ecog</th>\n",
       "      <th>ph.karno</th>\n",
       "      <th>pat.karno</th>\n",
       "      <th>meal.cal</th>\n",
       "      <th>wt.loss</th>\n",
       "    </tr>\n",
       "  </thead>\n",
       "  <tbody>\n",
       "    <tr>\n",
       "      <th>0</th>\n",
       "      <td>1</td>\n",
       "      <td>3.0</td>\n",
       "      <td>306</td>\n",
       "      <td>2</td>\n",
       "      <td>74</td>\n",
       "      <td>1</td>\n",
       "      <td>1.0</td>\n",
       "      <td>90.0</td>\n",
       "      <td>100.0</td>\n",
       "      <td>1175.0</td>\n",
       "      <td>NaN</td>\n",
       "    </tr>\n",
       "    <tr>\n",
       "      <th>1</th>\n",
       "      <td>2</td>\n",
       "      <td>3.0</td>\n",
       "      <td>455</td>\n",
       "      <td>2</td>\n",
       "      <td>68</td>\n",
       "      <td>1</td>\n",
       "      <td>0.0</td>\n",
       "      <td>90.0</td>\n",
       "      <td>90.0</td>\n",
       "      <td>1225.0</td>\n",
       "      <td>15.0</td>\n",
       "    </tr>\n",
       "    <tr>\n",
       "      <th>2</th>\n",
       "      <td>3</td>\n",
       "      <td>3.0</td>\n",
       "      <td>1010</td>\n",
       "      <td>1</td>\n",
       "      <td>56</td>\n",
       "      <td>1</td>\n",
       "      <td>0.0</td>\n",
       "      <td>90.0</td>\n",
       "      <td>90.0</td>\n",
       "      <td>NaN</td>\n",
       "      <td>15.0</td>\n",
       "    </tr>\n",
       "    <tr>\n",
       "      <th>3</th>\n",
       "      <td>4</td>\n",
       "      <td>5.0</td>\n",
       "      <td>210</td>\n",
       "      <td>2</td>\n",
       "      <td>57</td>\n",
       "      <td>1</td>\n",
       "      <td>1.0</td>\n",
       "      <td>90.0</td>\n",
       "      <td>60.0</td>\n",
       "      <td>1150.0</td>\n",
       "      <td>11.0</td>\n",
       "    </tr>\n",
       "    <tr>\n",
       "      <th>4</th>\n",
       "      <td>5</td>\n",
       "      <td>1.0</td>\n",
       "      <td>883</td>\n",
       "      <td>2</td>\n",
       "      <td>60</td>\n",
       "      <td>1</td>\n",
       "      <td>0.0</td>\n",
       "      <td>100.0</td>\n",
       "      <td>90.0</td>\n",
       "      <td>NaN</td>\n",
       "      <td>0.0</td>\n",
       "    </tr>\n",
       "  </tbody>\n",
       "</table>\n",
       "</div>"
      ],
      "text/plain": [
       "   Unnamed: 0  inst  time  status  age  sex  ph.ecog  ph.karno  pat.karno  \\\n",
       "0           1   3.0   306       2   74    1      1.0      90.0      100.0   \n",
       "1           2   3.0   455       2   68    1      0.0      90.0       90.0   \n",
       "2           3   3.0  1010       1   56    1      0.0      90.0       90.0   \n",
       "3           4   5.0   210       2   57    1      1.0      90.0       60.0   \n",
       "4           5   1.0   883       2   60    1      0.0     100.0       90.0   \n",
       "\n",
       "   meal.cal  wt.loss  \n",
       "0    1175.0      NaN  \n",
       "1    1225.0     15.0  \n",
       "2       NaN     15.0  \n",
       "3    1150.0     11.0  \n",
       "4       NaN      0.0  "
      ]
     },
     "execution_count": 8,
     "metadata": {},
     "output_type": "execute_result"
    }
   ],
   "source": [
    "data.head()"
   ]
  },
  {
   "cell_type": "code",
   "execution_count": 12,
   "metadata": {
    "colab": {
     "base_uri": "https://localhost:8080/",
     "height": 300
    },
    "id": "1uLT8SW0wV8f",
    "outputId": "248c7879-c7e9-47e5-8986-5530dc097f8b"
   },
   "outputs": [
    {
     "data": {
      "text/html": [
       "<div>\n",
       "<style scoped>\n",
       "    .dataframe tbody tr th:only-of-type {\n",
       "        vertical-align: middle;\n",
       "    }\n",
       "\n",
       "    .dataframe tbody tr th {\n",
       "        vertical-align: top;\n",
       "    }\n",
       "\n",
       "    .dataframe thead th {\n",
       "        text-align: right;\n",
       "    }\n",
       "</style>\n",
       "<table border=\"1\" class=\"dataframe\">\n",
       "  <thead>\n",
       "    <tr style=\"text-align: right;\">\n",
       "      <th></th>\n",
       "      <th>Unnamed: 0</th>\n",
       "      <th>inst</th>\n",
       "      <th>time</th>\n",
       "      <th>status</th>\n",
       "      <th>age</th>\n",
       "      <th>sex</th>\n",
       "      <th>ph.ecog</th>\n",
       "      <th>ph.karno</th>\n",
       "      <th>pat.karno</th>\n",
       "      <th>meal.cal</th>\n",
       "      <th>wt.loss</th>\n",
       "    </tr>\n",
       "  </thead>\n",
       "  <tbody>\n",
       "    <tr>\n",
       "      <th>count</th>\n",
       "      <td>228.00000</td>\n",
       "      <td>227.000000</td>\n",
       "      <td>228.000000</td>\n",
       "      <td>228.000000</td>\n",
       "      <td>228.000000</td>\n",
       "      <td>228.000000</td>\n",
       "      <td>227.000000</td>\n",
       "      <td>227.000000</td>\n",
       "      <td>225.000000</td>\n",
       "      <td>181.000000</td>\n",
       "      <td>214.000000</td>\n",
       "    </tr>\n",
       "    <tr>\n",
       "      <th>mean</th>\n",
       "      <td>114.50000</td>\n",
       "      <td>11.088106</td>\n",
       "      <td>305.232456</td>\n",
       "      <td>1.723684</td>\n",
       "      <td>62.447368</td>\n",
       "      <td>1.394737</td>\n",
       "      <td>0.951542</td>\n",
       "      <td>81.938326</td>\n",
       "      <td>79.955556</td>\n",
       "      <td>928.779006</td>\n",
       "      <td>9.831776</td>\n",
       "    </tr>\n",
       "    <tr>\n",
       "      <th>std</th>\n",
       "      <td>65.96211</td>\n",
       "      <td>8.303491</td>\n",
       "      <td>210.645543</td>\n",
       "      <td>0.448159</td>\n",
       "      <td>9.073457</td>\n",
       "      <td>0.489870</td>\n",
       "      <td>0.717872</td>\n",
       "      <td>12.327955</td>\n",
       "      <td>14.623177</td>\n",
       "      <td>402.174707</td>\n",
       "      <td>13.139902</td>\n",
       "    </tr>\n",
       "    <tr>\n",
       "      <th>min</th>\n",
       "      <td>1.00000</td>\n",
       "      <td>1.000000</td>\n",
       "      <td>5.000000</td>\n",
       "      <td>1.000000</td>\n",
       "      <td>39.000000</td>\n",
       "      <td>1.000000</td>\n",
       "      <td>0.000000</td>\n",
       "      <td>50.000000</td>\n",
       "      <td>30.000000</td>\n",
       "      <td>96.000000</td>\n",
       "      <td>-24.000000</td>\n",
       "    </tr>\n",
       "    <tr>\n",
       "      <th>25%</th>\n",
       "      <td>57.75000</td>\n",
       "      <td>3.000000</td>\n",
       "      <td>166.750000</td>\n",
       "      <td>1.000000</td>\n",
       "      <td>56.000000</td>\n",
       "      <td>1.000000</td>\n",
       "      <td>0.000000</td>\n",
       "      <td>75.000000</td>\n",
       "      <td>70.000000</td>\n",
       "      <td>635.000000</td>\n",
       "      <td>0.000000</td>\n",
       "    </tr>\n",
       "    <tr>\n",
       "      <th>50%</th>\n",
       "      <td>114.50000</td>\n",
       "      <td>11.000000</td>\n",
       "      <td>255.500000</td>\n",
       "      <td>2.000000</td>\n",
       "      <td>63.000000</td>\n",
       "      <td>1.000000</td>\n",
       "      <td>1.000000</td>\n",
       "      <td>80.000000</td>\n",
       "      <td>80.000000</td>\n",
       "      <td>975.000000</td>\n",
       "      <td>7.000000</td>\n",
       "    </tr>\n",
       "    <tr>\n",
       "      <th>75%</th>\n",
       "      <td>171.25000</td>\n",
       "      <td>16.000000</td>\n",
       "      <td>396.500000</td>\n",
       "      <td>2.000000</td>\n",
       "      <td>69.000000</td>\n",
       "      <td>2.000000</td>\n",
       "      <td>1.000000</td>\n",
       "      <td>90.000000</td>\n",
       "      <td>90.000000</td>\n",
       "      <td>1150.000000</td>\n",
       "      <td>15.750000</td>\n",
       "    </tr>\n",
       "    <tr>\n",
       "      <th>max</th>\n",
       "      <td>228.00000</td>\n",
       "      <td>33.000000</td>\n",
       "      <td>1022.000000</td>\n",
       "      <td>2.000000</td>\n",
       "      <td>82.000000</td>\n",
       "      <td>2.000000</td>\n",
       "      <td>3.000000</td>\n",
       "      <td>100.000000</td>\n",
       "      <td>100.000000</td>\n",
       "      <td>2600.000000</td>\n",
       "      <td>68.000000</td>\n",
       "    </tr>\n",
       "  </tbody>\n",
       "</table>\n",
       "</div>"
      ],
      "text/plain": [
       "       Unnamed: 0        inst         time      status         age  \\\n",
       "count   228.00000  227.000000   228.000000  228.000000  228.000000   \n",
       "mean    114.50000   11.088106   305.232456    1.723684   62.447368   \n",
       "std      65.96211    8.303491   210.645543    0.448159    9.073457   \n",
       "min       1.00000    1.000000     5.000000    1.000000   39.000000   \n",
       "25%      57.75000    3.000000   166.750000    1.000000   56.000000   \n",
       "50%     114.50000   11.000000   255.500000    2.000000   63.000000   \n",
       "75%     171.25000   16.000000   396.500000    2.000000   69.000000   \n",
       "max     228.00000   33.000000  1022.000000    2.000000   82.000000   \n",
       "\n",
       "              sex     ph.ecog    ph.karno   pat.karno     meal.cal     wt.loss  \n",
       "count  228.000000  227.000000  227.000000  225.000000   181.000000  214.000000  \n",
       "mean     1.394737    0.951542   81.938326   79.955556   928.779006    9.831776  \n",
       "std      0.489870    0.717872   12.327955   14.623177   402.174707   13.139902  \n",
       "min      1.000000    0.000000   50.000000   30.000000    96.000000  -24.000000  \n",
       "25%      1.000000    0.000000   75.000000   70.000000   635.000000    0.000000  \n",
       "50%      1.000000    1.000000   80.000000   80.000000   975.000000    7.000000  \n",
       "75%      2.000000    1.000000   90.000000   90.000000  1150.000000   15.750000  \n",
       "max      2.000000    3.000000  100.000000  100.000000  2600.000000   68.000000  "
      ]
     },
     "execution_count": 12,
     "metadata": {},
     "output_type": "execute_result"
    }
   ],
   "source": [
    "data.describe()"
   ]
  },
  {
   "cell_type": "markdown",
   "metadata": {
    "id": "L2aI7AOVWj7b"
   },
   "source": [
    "We will augment our dataset with a new column titled \"dead,\" which will indicate whether an individual participating in our experiment is deceased or alive, based on the values in the \"status\" column. Specifically, if the \"status\" value is 1, it signifies that the individual is alive, whereas a \"status\" value of 2 indicates that the individual has passed away.\n",
    "\n",
    "This additional column, \"dead,\" will provide a clear and easily interpretable representation of the vital status of each participant in our study, facilitating further analysis and interpretation of the survival data."
   ]
  },
  {
   "cell_type": "code",
   "execution_count": 13,
   "metadata": {
    "id": "l0b8vl-_wppV"
   },
   "outputs": [],
   "source": [
    "data['death'] = data['status'].map({1:0, 2:1})"
   ]
  },
  {
   "cell_type": "code",
   "execution_count": 14,
   "metadata": {
    "colab": {
     "base_uri": "https://localhost:8080/",
     "height": 112
    },
    "id": "dqthfplAYm0j",
    "outputId": "61a48bbd-9013-4107-cfd2-dee84b06ccd2"
   },
   "outputs": [
    {
     "data": {
      "text/html": [
       "<div>\n",
       "<style scoped>\n",
       "    .dataframe tbody tr th:only-of-type {\n",
       "        vertical-align: middle;\n",
       "    }\n",
       "\n",
       "    .dataframe tbody tr th {\n",
       "        vertical-align: top;\n",
       "    }\n",
       "\n",
       "    .dataframe thead th {\n",
       "        text-align: right;\n",
       "    }\n",
       "</style>\n",
       "<table border=\"1\" class=\"dataframe\">\n",
       "  <thead>\n",
       "    <tr style=\"text-align: right;\">\n",
       "      <th></th>\n",
       "      <th>Unnamed: 0</th>\n",
       "      <th>inst</th>\n",
       "      <th>time</th>\n",
       "      <th>status</th>\n",
       "      <th>age</th>\n",
       "      <th>sex</th>\n",
       "      <th>ph.ecog</th>\n",
       "      <th>ph.karno</th>\n",
       "      <th>pat.karno</th>\n",
       "      <th>meal.cal</th>\n",
       "      <th>wt.loss</th>\n",
       "      <th>death</th>\n",
       "    </tr>\n",
       "  </thead>\n",
       "  <tbody>\n",
       "    <tr>\n",
       "      <th>0</th>\n",
       "      <td>1</td>\n",
       "      <td>3.0</td>\n",
       "      <td>306</td>\n",
       "      <td>2</td>\n",
       "      <td>74</td>\n",
       "      <td>1</td>\n",
       "      <td>1.0</td>\n",
       "      <td>90.0</td>\n",
       "      <td>100.0</td>\n",
       "      <td>1175.0</td>\n",
       "      <td>NaN</td>\n",
       "      <td>1</td>\n",
       "    </tr>\n",
       "    <tr>\n",
       "      <th>1</th>\n",
       "      <td>2</td>\n",
       "      <td>3.0</td>\n",
       "      <td>455</td>\n",
       "      <td>2</td>\n",
       "      <td>68</td>\n",
       "      <td>1</td>\n",
       "      <td>0.0</td>\n",
       "      <td>90.0</td>\n",
       "      <td>90.0</td>\n",
       "      <td>1225.0</td>\n",
       "      <td>15.0</td>\n",
       "      <td>1</td>\n",
       "    </tr>\n",
       "  </tbody>\n",
       "</table>\n",
       "</div>"
      ],
      "text/plain": [
       "   Unnamed: 0  inst  time  status  age  sex  ph.ecog  ph.karno  pat.karno  \\\n",
       "0           1   3.0   306       2   74    1      1.0      90.0      100.0   \n",
       "1           2   3.0   455       2   68    1      0.0      90.0       90.0   \n",
       "\n",
       "   meal.cal  wt.loss  death  \n",
       "0    1175.0      NaN      1  \n",
       "1    1225.0     15.0      1  "
      ]
     },
     "execution_count": 14,
     "metadata": {},
     "output_type": "execute_result"
    }
   ],
   "source": [
    "data.head(2)"
   ]
  },
  {
   "cell_type": "markdown",
   "metadata": {
    "id": "aA7mLUxVwexO"
   },
   "source": [
    "# <a name='Estimating_hazard_rates_using_Nelson_Aalen'></a>\n",
    "\n",
    "<div>\n",
    "\n",
    "<center><h3 style=\"padding: 5px 0px; color:#d297de; font-weight: bold;\">\n",
    "3. Estimating Hazard Rates Using Nelson-Aalen</h3></center>\n",
    "</div>"
   ]
  },
  {
   "cell_type": "markdown",
   "metadata": {
    "id": "UAYWm-wFitI9"
   },
   "source": [
    "**Understanding the Hazard Function:**\n",
    "\n",
    "While survival functions provide valuable insights into the overall survival patterns within a dataset, they may not fully capture the underlying risk dynamics over time. In such cases, exploring the hazard function \\( h(t) \\) becomes imperative.\n",
    "\n",
    "Unlike survival functions, which focus on the probability of survival up to a certain time point, the hazard function sheds light on the instantaneous risk of an event occurring at a specific time \\( t \\). However, transforming the Kaplan-Meier estimate alone doesn't facilitate the derivation of the hazard function.\n",
    "\n",
    "By computing the Nelson-Aalen hazard function, we gain insights into the evolving risk profile within our population over time, enabling a more comprehensive understanding of the underlying dynamics driving survival outcomes.\n",
    "\n",
    "$ \\widehat{H}(t) =  \\sum_{t \\leq t_i} \\frac{d_i}{n_i}$\n",
    "\n",
    "Where,\n",
    "\n",
    "$d_i$ = number of deaths at time $t_i$\n",
    "\n",
    "$n_i$ = number of patients at the start."
   ]
  },
  {
   "cell_type": "code",
   "execution_count": 15,
   "metadata": {
    "id": "LCpM0b8BiPQf"
   },
   "outputs": [],
   "source": [
    "na = NelsonAalenFitter()"
   ]
  },
  {
   "cell_type": "code",
   "execution_count": 16,
   "metadata": {
    "colab": {
     "base_uri": "https://localhost:8080/"
    },
    "id": "laYpvXNOjwYl",
    "outputId": "bcc2a0b2-4ce3-400b-debd-405e47bf22b4"
   },
   "outputs": [
    {
     "data": {
      "text/plain": [
       "<lifelines.NelsonAalenFitter:\"NA_estimate\", fitted with 228 total observations, 63 right-censored observations>"
      ]
     },
     "execution_count": 16,
     "metadata": {},
     "output_type": "execute_result"
    }
   ],
   "source": [
    "na.fit(data['time'], event_observed = data['death'])"
   ]
  },
  {
   "cell_type": "markdown",
   "metadata": {
    "id": "2lf6DENEkHaC"
   },
   "source": [
    "$H_5 = H_0 + H_5 = \\frac{0}{288} + \\frac{1}{288} = 0.004385$\n",
    "\n"
   ]
  },
  {
   "cell_type": "code",
   "execution_count": 17,
   "metadata": {
    "colab": {
     "base_uri": "https://localhost:8080/",
     "height": 455
    },
    "id": "SFZukaOAj_gQ",
    "outputId": "fe46e446-b4da-4ffb-d839-f9d3355cace3"
   },
   "outputs": [
    {
     "data": {
      "text/html": [
       "<div>\n",
       "<style scoped>\n",
       "    .dataframe tbody tr th:only-of-type {\n",
       "        vertical-align: middle;\n",
       "    }\n",
       "\n",
       "    .dataframe tbody tr th {\n",
       "        vertical-align: top;\n",
       "    }\n",
       "\n",
       "    .dataframe thead th {\n",
       "        text-align: right;\n",
       "    }\n",
       "</style>\n",
       "<table border=\"1\" class=\"dataframe\">\n",
       "  <thead>\n",
       "    <tr style=\"text-align: right;\">\n",
       "      <th></th>\n",
       "      <th>NA_estimate</th>\n",
       "    </tr>\n",
       "    <tr>\n",
       "      <th>timeline</th>\n",
       "      <th></th>\n",
       "    </tr>\n",
       "  </thead>\n",
       "  <tbody>\n",
       "    <tr>\n",
       "      <th>0.0</th>\n",
       "      <td>0.000000</td>\n",
       "    </tr>\n",
       "    <tr>\n",
       "      <th>5.0</th>\n",
       "      <td>0.004386</td>\n",
       "    </tr>\n",
       "    <tr>\n",
       "      <th>11.0</th>\n",
       "      <td>0.017660</td>\n",
       "    </tr>\n",
       "    <tr>\n",
       "      <th>12.0</th>\n",
       "      <td>0.022125</td>\n",
       "    </tr>\n",
       "    <tr>\n",
       "      <th>13.0</th>\n",
       "      <td>0.031114</td>\n",
       "    </tr>\n",
       "    <tr>\n",
       "      <th>...</th>\n",
       "      <td>...</td>\n",
       "    </tr>\n",
       "    <tr>\n",
       "      <th>840.0</th>\n",
       "      <td>2.641565</td>\n",
       "    </tr>\n",
       "    <tr>\n",
       "      <th>883.0</th>\n",
       "      <td>2.891565</td>\n",
       "    </tr>\n",
       "    <tr>\n",
       "      <th>965.0</th>\n",
       "      <td>2.891565</td>\n",
       "    </tr>\n",
       "    <tr>\n",
       "      <th>1010.0</th>\n",
       "      <td>2.891565</td>\n",
       "    </tr>\n",
       "    <tr>\n",
       "      <th>1022.0</th>\n",
       "      <td>2.891565</td>\n",
       "    </tr>\n",
       "  </tbody>\n",
       "</table>\n",
       "<p>187 rows × 1 columns</p>\n",
       "</div>"
      ],
      "text/plain": [
       "          NA_estimate\n",
       "timeline             \n",
       "0.0          0.000000\n",
       "5.0          0.004386\n",
       "11.0         0.017660\n",
       "12.0         0.022125\n",
       "13.0         0.031114\n",
       "...               ...\n",
       "840.0        2.641565\n",
       "883.0        2.891565\n",
       "965.0        2.891565\n",
       "1010.0       2.891565\n",
       "1022.0       2.891565\n",
       "\n",
       "[187 rows x 1 columns]"
      ]
     },
     "execution_count": 17,
     "metadata": {},
     "output_type": "execute_result"
    }
   ],
   "source": [
    "na.cumulative_hazard_"
   ]
  },
  {
   "cell_type": "code",
   "execution_count": 18,
   "metadata": {
    "colab": {
     "base_uri": "https://localhost:8080/",
     "height": 497
    },
    "id": "th58FQUxkifX",
    "outputId": "010544bb-552e-4676-845a-e839b69d8f02"
   },
   "outputs": [
    {
     "data": {
      "image/png": "[encoded data removed]",
      "text/plain": [
       "<Figure size 936x576 with 1 Axes>"
      ]
     },
     "metadata": {
      "needs_background": "light"
     },
     "output_type": "display_data"
    }
   ],
   "source": [
    "plt.figure(figsize=(13,8))\n",
    "na.plot_cumulative_hazard(color = '#d297de');"
   ]
  },
  {
   "cell_type": "markdown",
   "metadata": {
    "id": "GwQhAbR1kwRB"
   },
   "source": [
    "The cumulative hazard has less obvious understanding than the survival functions, but the hazard functions are the basis of more advanced techniques in survival analysis."
   ]
  },
  {
   "cell_type": "markdown",
   "metadata": {
    "id": "Ot1pp0p5iWiv"
   },
   "source": [
    "We observe from the graph, the probability of a person dying increases with number of survival days"
   ]
  },
  {
   "cell_type": "markdown",
   "metadata": {
    "id": "ArASuo21yhO-"
   },
   "source": [
    "# <a name='Cox_proportional_hazard_model'></a>\n",
    "\n",
    "<div>\n",
    "\n",
    "<center><h3 style=\"padding: 5px 0px; color:#d297de; font-weight: bold; \">\n",
    "4. Cox Proportional Hazard Model</h3></center>\n",
    "</div>"
   ]
  },
  {
   "cell_type": "markdown",
   "metadata": {
    "id": "x_4L6il1pafM"
   },
   "source": [
    "**Understanding the Cox Proportional Hazard Model:**\n",
    "\n",
    "The Cox proportional hazard model serves as a fundamental regression tool widely utilized in medical research to elucidate the relationship between the survival time of subjects and various predictor variables. Essentially, it enables us to discern how factors such as age, sex, weight, and height influence an individual's length of survival.\n",
    "\n",
    "In contrast to the methodologies discussed earlier, such as Kaplan-Meier, Nelson-Aalen, and Log-Rank Test, which primarily focused on analyzing one variable at a time, the Cox proportional hazard model offers the advantage of considering multiple predictor variables simultaneously. Moreover, it accommodates both categorical and quantitative predictor variables, making it a versatile choice for analyzing diverse datasets.\n",
    "\n",
    "The necessity for employing the Cox proportional hazard model arises from the complexity of medical research scenarios, where several factors contribute to diagnosing a person's health or predicting their survival time. For instance, researchers often examine variables such as sex, age, blood pressure, and blood sugar levels to discern significant differences among various groups. By leveraging Cox regression analysis, researchers can determine the coefficients associated with different parameters, thereby elucidating the factors that exert the most substantial impact on survival outcomes.\n",
    "\n",
    "At its core, the Cox proportional hazard method aims to assess how different factors within a dataset influence the occurrence of the event of interest. Through this method, researchers gain insights into the nuanced interplay between predictor variables and the event under investigation, facilitating a deeper understanding of the underlying mechanisms governing survival outcomes.\n",
    "Hazard function:\n",
    "\n",
    "$h(t) = h_0(t)* exp(b_1 x_1 + b_2 x_2 + ... + b_n x_n)$\n",
    "\n",
    "where,\n",
    "\n",
    "$h(t)$ = hazard function\n",
    "\n",
    "$b_1, b_2, ..., b_n$ = measures the impact of covariates\n",
    "\n",
    "$x_1, x_2, ..., x_n$ = covariates\n",
    "\n",
    "$t$ = survival time\n",
    "\n",
    "The values exp(bi) is called the hazard ratio (HR). The HR greater than 1 indicates that as the value of ith covariate increases, the event hazard increases, and thus the duration of survival decreases.\n",
    "\n",
    "$HR < 1 \\rightarrow Reduction\\ in\\ the\\ Hazard$\n",
    "\n",
    "$HR = 1 \\rightarrow No\\ Effect$\n",
    "\n",
    "$HR > 1 \\rightarrow Increase\\ in\\ the\\ Hazard$"
   ]
  },
  {
   "cell_type": "code",
   "execution_count": 20,
   "metadata": {
    "id": "3f3DJot8pQbD"
   },
   "outputs": [],
   "source": [
    "data_c = data[['time', 'age', 'sex', 'ph.ecog','ph.karno', 'pat.karno', 'meal.cal', 'wt.loss', 'death']]"
   ]
  },
  {
   "cell_type": "code",
   "execution_count": 21,
   "metadata": {
    "colab": {
     "base_uri": "https://localhost:8080/"
    },
    "id": "E8K4qr9p0PHD",
    "outputId": "d93e5bb3-2171-405e-977e-891ec40aabed"
   },
   "outputs": [
    {
     "data": {
      "text/plain": [
       "time          0\n",
       "age           0\n",
       "sex           0\n",
       "ph.ecog       1\n",
       "ph.karno      1\n",
       "pat.karno     3\n",
       "meal.cal     47\n",
       "wt.loss      14\n",
       "death         0\n",
       "dtype: int64"
      ]
     },
     "execution_count": 21,
     "metadata": {},
     "output_type": "execute_result"
    }
   ],
   "source": [
    "data_c.isnull().sum()"
   ]
  },
  {
   "cell_type": "code",
   "execution_count": 23,
   "metadata": {
    "id": "OzU2-2C20aT6"
   },
   "outputs": [],
   "source": [
    "data_c = data_c.dropna(subset=['time', 'age', 'sex', 'ph.ecog', 'ph.karno', 'pat.karno', 'meal.cal', 'wt.loss', 'death'])"
   ]
  },
  {
   "cell_type": "code",
   "execution_count": 24,
   "metadata": {
    "colab": {
     "base_uri": "https://localhost:8080/"
    },
    "id": "1WP6SC6P1MpI",
    "outputId": "4ca565cf-8edc-4ddd-c8c0-b71e816dc1a3"
   },
   "outputs": [
    {
     "data": {
      "text/plain": [
       "(168, 9)"
      ]
     },
     "execution_count": 24,
     "metadata": {},
     "output_type": "execute_result"
    }
   ],
   "source": [
    "data_c.shape"
   ]
  },
  {
   "cell_type": "code",
   "execution_count": 25,
   "metadata": {
    "colab": {
     "base_uri": "https://localhost:8080/",
     "height": 662
    },
    "id": "yKo7sjs11SHp",
    "outputId": "9a72f56f-3aff-4eef-b423-be27648c485e"
   },
   "outputs": [
    {
     "data": {
      "text/html": [
       "<div>\n",
       "<style scoped>\n",
       "    .dataframe tbody tr th:only-of-type {\n",
       "        vertical-align: middle;\n",
       "    }\n",
       "\n",
       "    .dataframe tbody tr th {\n",
       "        vertical-align: top;\n",
       "    }\n",
       "\n",
       "    .dataframe thead th {\n",
       "        text-align: right;\n",
       "    }\n",
       "</style>\n",
       "<table border=\"1\" class=\"dataframe\">\n",
       "  <tbody>\n",
       "    <tr>\n",
       "      <th>model</th>\n",
       "      <td>lifelines.CoxPHFitter</td>\n",
       "    </tr>\n",
       "    <tr>\n",
       "      <th>duration col</th>\n",
       "      <td>'time'</td>\n",
       "    </tr>\n",
       "    <tr>\n",
       "      <th>event col</th>\n",
       "      <td>'death'</td>\n",
       "    </tr>\n",
       "    <tr>\n",
       "      <th>baseline estimation</th>\n",
       "      <td>breslow</td>\n",
       "    </tr>\n",
       "    <tr>\n",
       "      <th>number of observations</th>\n",
       "      <td>168</td>\n",
       "    </tr>\n",
       "    <tr>\n",
       "      <th>number of events observed</th>\n",
       "      <td>121</td>\n",
       "    </tr>\n",
       "    <tr>\n",
       "      <th>partial log-likelihood</th>\n",
       "      <td>-498.75</td>\n",
       "    </tr>\n",
       "    <tr>\n",
       "      <th>time fit was run</th>\n",
       "      <td>2024-04-17 19:22:04 UTC</td>\n",
       "    </tr>\n",
       "  </tbody>\n",
       "</table>\n",
       "</div><table border=\"1\" class=\"dataframe\">\n",
       "  <thead>\n",
       "    <tr style=\"text-align: right;\">\n",
       "      <th style=\"min-width: 12px;\"></th>\n",
       "      <th style=\"min-width: 12px;\">coef</th>\n",
       "      <th style=\"min-width: 12px;\">exp(coef)</th>\n",
       "      <th style=\"min-width: 12px;\">se(coef)</th>\n",
       "      <th style=\"min-width: 12px;\">coef lower 95%</th>\n",
       "      <th style=\"min-width: 12px;\">coef upper 95%</th>\n",
       "      <th style=\"min-width: 12px;\">exp(coef) lower 95%</th>\n",
       "      <th style=\"min-width: 12px;\">exp(coef) upper 95%</th>\n",
       "      <th style=\"min-width: 12px;\">cmp to</th>\n",
       "      <th style=\"min-width: 12px;\">z</th>\n",
       "      <th style=\"min-width: 12px;\">p</th>\n",
       "      <th style=\"min-width: 12px;\">-log2(p)</th>\n",
       "    </tr>\n",
       "  </thead>\n",
       "  <tbody>\n",
       "    <tr>\n",
       "      <th>age</th>\n",
       "      <td>0.01</td>\n",
       "      <td>1.01</td>\n",
       "      <td>0.01</td>\n",
       "      <td>-0.01</td>\n",
       "      <td>0.03</td>\n",
       "      <td>0.99</td>\n",
       "      <td>1.03</td>\n",
       "      <td>0.00</td>\n",
       "      <td>0.92</td>\n",
       "      <td>0.36</td>\n",
       "      <td>1.48</td>\n",
       "    </tr>\n",
       "    <tr>\n",
       "      <th>sex</th>\n",
       "      <td>-0.55</td>\n",
       "      <td>0.58</td>\n",
       "      <td>0.20</td>\n",
       "      <td>-0.94</td>\n",
       "      <td>-0.16</td>\n",
       "      <td>0.39</td>\n",
       "      <td>0.85</td>\n",
       "      <td>0.00</td>\n",
       "      <td>-2.74</td>\n",
       "      <td>0.01</td>\n",
       "      <td>7.36</td>\n",
       "    </tr>\n",
       "    <tr>\n",
       "      <th>ph.ecog</th>\n",
       "      <td>0.73</td>\n",
       "      <td>2.08</td>\n",
       "      <td>0.22</td>\n",
       "      <td>0.30</td>\n",
       "      <td>1.17</td>\n",
       "      <td>1.35</td>\n",
       "      <td>3.23</td>\n",
       "      <td>0.00</td>\n",
       "      <td>3.29</td>\n",
       "      <td>&lt;0.005</td>\n",
       "      <td>9.95</td>\n",
       "    </tr>\n",
       "    <tr>\n",
       "      <th>ph.karno</th>\n",
       "      <td>0.02</td>\n",
       "      <td>1.02</td>\n",
       "      <td>0.01</td>\n",
       "      <td>0.00</td>\n",
       "      <td>0.04</td>\n",
       "      <td>1.00</td>\n",
       "      <td>1.05</td>\n",
       "      <td>0.00</td>\n",
       "      <td>2.00</td>\n",
       "      <td>0.05</td>\n",
       "      <td>4.45</td>\n",
       "    </tr>\n",
       "    <tr>\n",
       "      <th>pat.karno</th>\n",
       "      <td>-0.01</td>\n",
       "      <td>0.99</td>\n",
       "      <td>0.01</td>\n",
       "      <td>-0.03</td>\n",
       "      <td>0.00</td>\n",
       "      <td>0.97</td>\n",
       "      <td>1.00</td>\n",
       "      <td>0.00</td>\n",
       "      <td>-1.54</td>\n",
       "      <td>0.12</td>\n",
       "      <td>3.02</td>\n",
       "    </tr>\n",
       "    <tr>\n",
       "      <th>meal.cal</th>\n",
       "      <td>0.00</td>\n",
       "      <td>1.00</td>\n",
       "      <td>0.00</td>\n",
       "      <td>-0.00</td>\n",
       "      <td>0.00</td>\n",
       "      <td>1.00</td>\n",
       "      <td>1.00</td>\n",
       "      <td>0.00</td>\n",
       "      <td>0.13</td>\n",
       "      <td>0.90</td>\n",
       "      <td>0.16</td>\n",
       "    </tr>\n",
       "    <tr>\n",
       "      <th>wt.loss</th>\n",
       "      <td>-0.01</td>\n",
       "      <td>0.99</td>\n",
       "      <td>0.01</td>\n",
       "      <td>-0.03</td>\n",
       "      <td>0.00</td>\n",
       "      <td>0.97</td>\n",
       "      <td>1.00</td>\n",
       "      <td>0.00</td>\n",
       "      <td>-1.84</td>\n",
       "      <td>0.07</td>\n",
       "      <td>3.94</td>\n",
       "    </tr>\n",
       "  </tbody>\n",
       "</table><br><div>\n",
       "<style scoped>\n",
       "    .dataframe tbody tr th:only-of-type {\n",
       "        vertical-align: middle;\n",
       "    }\n",
       "\n",
       "    .dataframe tbody tr th {\n",
       "        vertical-align: top;\n",
       "    }\n",
       "\n",
       "    .dataframe thead th {\n",
       "        text-align: right;\n",
       "    }\n",
       "</style>\n",
       "<table border=\"1\" class=\"dataframe\">\n",
       "  <tbody>\n",
       "    <tr>\n",
       "      <th>Concordance</th>\n",
       "      <td>0.65</td>\n",
       "    </tr>\n",
       "    <tr>\n",
       "      <th>Partial AIC</th>\n",
       "      <td>1011.50</td>\n",
       "    </tr>\n",
       "    <tr>\n",
       "      <th>log-likelihood ratio test</th>\n",
       "      <td>28.33 on 7 df</td>\n",
       "    </tr>\n",
       "    <tr>\n",
       "      <th>-log2(p) of ll-ratio test</th>\n",
       "      <td>12.35</td>\n",
       "    </tr>\n",
       "  </tbody>\n",
       "</table>\n",
       "</div>"
      ],
      "text/latex": [
       "\\begin{tabular}{lrrrrrrrrrrr}\n",
       " & coef & exp(coef) & se(coef) & coef lower 95% & coef upper 95% & exp(coef) lower 95% & exp(coef) upper 95% & cmp to & z & p & -log2(p) \\\\\n",
       "covariate &  &  &  &  &  &  &  &  &  &  &  \\\\\n",
       "age & 0.01 & 1.01 & 0.01 & -0.01 & 0.03 & 0.99 & 1.03 & 0.00 & 0.92 & 0.36 & 1.48 \\\\\n",
       "sex & -0.55 & 0.58 & 0.20 & -0.94 & -0.16 & 0.39 & 0.85 & 0.00 & -2.74 & 0.01 & 7.36 \\\\\n",
       "ph.ecog & 0.73 & 2.08 & 0.22 & 0.30 & 1.17 & 1.35 & 3.23 & 0.00 & 3.29 & 0.00 & 9.95 \\\\\n",
       "ph.karno & 0.02 & 1.02 & 0.01 & 0.00 & 0.04 & 1.00 & 1.05 & 0.00 & 2.00 & 0.05 & 4.45 \\\\\n",
       "pat.karno & -0.01 & 0.99 & 0.01 & -0.03 & 0.00 & 0.97 & 1.00 & 0.00 & -1.54 & 0.12 & 3.02 \\\\\n",
       "meal.cal & 0.00 & 1.00 & 0.00 & -0.00 & 0.00 & 1.00 & 1.00 & 0.00 & 0.13 & 0.90 & 0.16 \\\\\n",
       "wt.loss & -0.01 & 0.99 & 0.01 & -0.03 & 0.00 & 0.97 & 1.00 & 0.00 & -1.84 & 0.07 & 3.94 \\\\\n",
       "\\end{tabular}\n"
      ],
      "text/plain": [
       "<lifelines.CoxPHFitter: fitted with 168 total observations, 47 right-censored observations>\n",
       "             duration col = 'time'\n",
       "                event col = 'death'\n",
       "      baseline estimation = breslow\n",
       "   number of observations = 168\n",
       "number of events observed = 121\n",
       "   partial log-likelihood = -498.75\n",
       "         time fit was run = 2024-04-17 19:22:04 UTC\n",
       "\n",
       "---\n",
       "            coef  exp(coef)   se(coef)   coef lower 95%   coef upper 95%  exp(coef) lower 95%  exp(coef) upper 95%\n",
       "covariate                                                                                                         \n",
       "age         0.01       1.01       0.01            -0.01             0.03                 0.99                 1.03\n",
       "sex        -0.55       0.58       0.20            -0.94            -0.16                 0.39                 0.85\n",
       "ph.ecog     0.73       2.08       0.22             0.30             1.17                 1.35                 3.23\n",
       "ph.karno    0.02       1.02       0.01             0.00             0.04                 1.00                 1.05\n",
       "pat.karno  -0.01       0.99       0.01            -0.03             0.00                 0.97                 1.00\n",
       "meal.cal    0.00       1.00       0.00            -0.00             0.00                 1.00                 1.00\n",
       "wt.loss    -0.01       0.99       0.01            -0.03             0.00                 0.97                 1.00\n",
       "\n",
       "            cmp to     z      p   -log2(p)\n",
       "covariate                                 \n",
       "age           0.00  0.92   0.36       1.48\n",
       "sex           0.00 -2.74   0.01       7.36\n",
       "ph.ecog       0.00  3.29 <0.005       9.95\n",
       "ph.karno      0.00  2.00   0.05       4.45\n",
       "pat.karno     0.00 -1.54   0.12       3.02\n",
       "meal.cal      0.00  0.13   0.90       0.16\n",
       "wt.loss       0.00 -1.84   0.07       3.94\n",
       "---\n",
       "Concordance = 0.65\n",
       "Partial AIC = 1011.50\n",
       "log-likelihood ratio test = 28.33 on 7 df\n",
       "-log2(p) of ll-ratio test = 12.35"
      ]
     },
     "metadata": {},
     "output_type": "display_data"
    }
   ],
   "source": [
    "cph = CoxPHFitter()\n",
    "\n",
    "cph.fit(data_c, 'time', event_col='death')\n",
    "cph.print_summary()"
   ]
  },
  {
   "cell_type": "markdown",
   "metadata": {
    "id": "SZ79YnPr1q7j"
   },
   "source": [
    "Observing the p-values associated with various parameters, it's crucial to highlight that a p-value less than 0.05 is conventionally deemed significant. Upon examination, it's apparent that the p-values for \"sex\" and \"ph.ecog\" are both below this threshold. Consequently, we can assert that grouping our data based on these parameters is warranted.\n",
    "\n",
    "The Hazard Ratio (HR), often denoted as exp(bi), provides further insight into the relationship between predictor variables and the event of interest. For instance, in the case of \"sex,\" where the p-value is 0.01 and the HR is 0.57, a robust association emerges between patients' sex and a decreased risk of death. To elaborate, holding other covariates constant, being female (sex=2) diminishes the hazard by 42%, indicating higher survival chances among females. This inference aligns with the graphical analysis conducted in the preceding section.\n",
    "\n",
    "Similarly, for \"ph.ecog,\" where the p-value is less than 0.005 and the HR is 2.09, a significant correlation emerges between the \"ph.ecog\" value and an increased risk of death. Holding other covariates constant, a higher \"ph.ecog\" value correlates with poorer survival outcomes, with individuals exhibiting higher \"ph.ecog\" values facing a 109% higher risk of death. Consequently, efforts by medical professionals to mitigate \"ph.ecog\" values through appropriate medication interventions are imperative.\n",
    "\n",
    "Contrastingly, the HR for \"Age\" stands at 1.01, indicating a mere 1% increase for the higher age group. Consequently, we can infer that there exists no significant disparity between different age groups in terms of survival outcomes."
   ]
  },
  {
   "cell_type": "markdown",
   "metadata": {
    "id": "iyAF0afW1uTY"
   },
   "source": [
    "Check which factor affects the most from the graph:\n",
    "\n",
    "You can clearly see that ph.ecog and sex variables have significant differences."
   ]
  },
  {
   "cell_type": "code",
   "execution_count": 26,
   "metadata": {
    "colab": {
     "base_uri": "https://localhost:8080/",
     "height": 497
    },
    "id": "u2jlqI0_1v3v",
    "outputId": "7616fe4e-56d7-4475-e7f4-08fd925de70a"
   },
   "outputs": [
    {
     "data": {
      "image/png": "[encoded data removed]",
      "text/plain": [
       "<Figure size 936x576 with 1 Axes>"
      ]
     },
     "metadata": {
      "needs_background": "light"
     },
     "output_type": "display_data"
    }
   ],
   "source": [
    "plt.figure(figsize=(13,8))\n",
    "cph.plot();"
   ]
  },
  {
   "cell_type": "code",
   "execution_count": 30,
   "metadata": {
    "colab": {
     "base_uri": "https://localhost:8080/",
     "height": 483
    },
    "id": "FfYPQoUe5syj",
    "outputId": "a4fcee46-9913-416c-c742-6f31e2550edb"
   },
   "outputs": [
    {
     "data": {
      "image/png": "[encoded data removed]",
      "text/plain": [
       "<Figure size 936x576 with 1 Axes>"
      ]
     },
     "metadata": {
      "needs_background": "light"
     },
     "output_type": "display_data"
    }
   ],
   "source": [
    "cph.plot_partial_effects_on_outcome(covariates = 'age', values = [50, 60, 70, 80], figsize=(13,8));"
   ]
  },
  {
   "cell_type": "markdown",
   "metadata": {
    "id": "TOSI-gDN52Kd"
   },
   "source": [
    "In this analysis, we employed the plot_partial_effects_on_outcome() method to visualize the variation in survival probabilities among different age groups, specifically focusing on individuals aged 50, 60, 70, and 80 years, relative to the baseline function. The results unequivocally illustrate that younger patients exhibit notably higher survival probabilities at any given point in time compared to their older counterparts."
   ]
  },
  {
   "cell_type": "code",
   "execution_count": 31,
   "metadata": {
    "colab": {
     "base_uri": "https://localhost:8080/",
     "height": 483
    },
    "id": "vAII5N9819EH",
    "outputId": "b2d41360-1f27-495f-b8aa-88fd6e138fb0"
   },
   "outputs": [
    {
     "data": {
      "image/png": "[encoded data removed]",
      "text/plain": [
       "<Figure size 936x576 with 1 Axes>"
      ]
     },
     "metadata": {
      "needs_background": "light"
     },
     "output_type": "display_data"
    }
   ],
   "source": [
    "# Plot the survival function :\n",
    "d_data = data_c.iloc[0:5,:]\n",
    "cph.predict_survival_function(d_data).plot(figsize=(13,8));"
   ]
  },
  {
   "cell_type": "markdown",
   "metadata": {
    "id": "RMZrZGGI2EiX"
   },
   "source": [
    "In this plot depicting the survival probabilities for individuals within our dataset, it's evident that person-1 possesses the highest likelihood of survival, while person-3 faces the lowest chances of survival. Upon closer examination of the primary data, it becomes apparent that person-3 exhibits a higher \"ph.ecog\" value, indicating a poorer performance status.\n",
    "\n",
    "Furthermore, an intriguing observation emerges regarding person-5, whose survival probability appears comparatively lower despite being alive. This discrepancy can be attributed to the individual's elevated \"ph.ecog\" value, suggesting a compromised health status that adversely impacts their survival prospects, despite their current vitality."
   ]
  },
  {
   "cell_type": "code",
   "execution_count": 32,
   "metadata": {
    "colab": {
     "base_uri": "https://localhost:8080/"
    },
    "id": "0k7XPw7E5JRs",
    "outputId": "055f7dd3-33eb-4a8b-ee00-d8e454a7e1f3"
   },
   "outputs": [
    {
     "data": {
      "text/plain": [
       "array([0., 1., 2., 3.])"
      ]
     },
     "execution_count": 32,
     "metadata": {},
     "output_type": "execute_result"
    }
   ],
   "source": [
    "data_c['ph.ecog'].unique()"
   ]
  },
  {
   "cell_type": "code",
   "execution_count": 33,
   "metadata": {
    "colab": {
     "base_uri": "https://localhost:8080/"
    },
    "id": "qyIDsyRr5fQt",
    "outputId": "eab78788-9b49-44c4-b094-276f3d3f6eb0"
   },
   "outputs": [
    {
     "data": {
      "text/plain": [
       "1.0    81\n",
       "0.0    47\n",
       "2.0    39\n",
       "3.0     1\n",
       "Name: ph.ecog, dtype: int64"
      ]
     },
     "execution_count": 33,
     "metadata": {},
     "output_type": "execute_result"
    }
   ],
   "source": [
    "data_c['ph.ecog'].value_counts()"
   ]
  },
  {
   "cell_type": "code",
   "execution_count": 40,
   "metadata": {
    "colab": {
     "base_uri": "https://localhost:8080/",
     "height": 585
    },
    "id": "NYBJGfZV5HCg",
    "outputId": "9531b6c3-39c8-42b0-819b-0964a04d8556"
   },
   "outputs": [
    {
     "data": {
      "image/png": "[encoded data removed]",
      "text/plain": [
       "<Figure size 936x576 with 4 Axes>"
      ]
     },
     "metadata": {
      "needs_background": "light"
     },
     "output_type": "display_data"
    }
   ],
   "source": [
    "ecog_types = data_c.sort_values(by = ['ph.ecog'])['ph.ecog'].unique()\n",
    "for i, ecog_types in enumerate(ecog_types):\n",
    "  ax = plt.subplot(2, 2, i+1)\n",
    "  ix = data_c['ph.ecog'] == ecog_types\n",
    "  km.fit(data_c['time'][ix], data_c['death'][ix], label = ecog_types)\n",
    "  km.plot_survival_function(ax = ax, legend = False, figsize=(13,8),color='m')\n",
    "  plt.title(ecog_types)\n",
    "  plt.xlim(0, 1200)\n",
    "plt.tight_layout();"
   ]
  },
  {
   "cell_type": "markdown",
   "metadata": {
    "id": "ppxcaRuM29CQ"
   },
   "source": [
    "Higher ph.ecog foe patients usually means lower lifetime."
   ]
  },
  {
   "cell_type": "code",
   "execution_count": null,
   "metadata": {},
   "outputs": [],
   "source": []
  }
 ],
 "metadata": {
  "colab": {
   "collapsed_sections": [
    "-E1Y3DLTu1d7",
    "_sftityZYj5K",
    "Z5sz179VQiG1",
    "DwZIb4VmZPVP",
    "h-ffatanmTqu",
    "zU0rfG_xm3yx",
    "aA7mLUxVwexO",
    "xactclXyxHgs",
    "TsKrWF2fyHO_",
    "ArASuo21yhO-"
   ],
   "name": "Patients Survival Analysis.ipynb",
   "provenance": []
  },
  "kernelspec": {
   "display_name": "Python 3 (ipykernel)",
   "language": "python",
   "name": "python3"
  },
  "language_info": {
   "codemirror_mode": {
    "name": "ipython",
    "version": 3
   },
   "file_extension": ".py",
   "mimetype": "text/x-python",
   "name": "python",
   "nbconvert_exporter": "python",
   "pygments_lexer": "ipython3",
   "version": "3.9.12"
  }
 },
 "nbformat": 4,
 "nbformat_minor": 1
}
